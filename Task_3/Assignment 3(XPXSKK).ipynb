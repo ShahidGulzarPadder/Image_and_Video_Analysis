{
 "cells": [
  {
   "cell_type": "markdown",
   "id": "dd0428a8",
   "metadata": {},
   "source": [
    "# Detection of circular object by edge detection and Hough transform for circles"
   ]
  },
  {
   "cell_type": "markdown",
   "id": "368ed899",
   "metadata": {},
   "source": [
    "# Shahid Gulzar Padder (XPXSKK)"
   ]
  },
  {
   "cell_type": "code",
   "execution_count": null,
   "id": "51150d28",
   "metadata": {},
   "outputs": [],
   "source": [
    "import cv2\n",
    "import math\n",
    "import numpy as nu"
   ]
  },
  {
   "cell_type": "code",
   "execution_count": 11,
   "id": "e4a8a600",
   "metadata": {},
   "outputs": [],
   "source": [
    "def Grayscale(image):\n",
    "    image = cv2.cvtColor(image, cv2.COLOR_BGR2GRAY)\n",
    "    return image\n",
    "\n",
    "\n",
    "def GaussianBlur(image):\n",
    "    image = cv2.GaussianBlur(image, (3, 3), 0)\n",
    "    return image"
   ]
  },
  {
   "cell_type": "code",
   "execution_count": 12,
   "id": "24769c5d",
   "metadata": {},
   "outputs": [],
   "source": [
    "def SobelFilter(image):\n",
    "    image = Grayscale(GaussianBlur(image))\n",
    "    convolved = nu.zeros(image.shape)\n",
    "    G_x = nu.zeros(image.shape)\n",
    "    G_y = nu.zeros(image.shape)\n",
    "    size = image.shape\n",
    "    kernel_x = nu.array(([-1, 0, 1], [-2, 0, 2], [-1, 0, 1]))\n",
    "    kernel_y = nu.array(([-1, -2, -1], [0, 0, 0], [1, 2, 1]))\n",
    "    for i in range(1, size[0] - 1):\n",
    "        for j in range(1, size[1] - 1):\n",
    "            G_x[i, j] = nu.sum(nu.multiply(image[i - 1: i + 2, j - 1: j + 2], kernel_x))\n",
    "            G_y[i, j] = nu.sum(nu.multiply(image[i - 1: i + 2, j - 1: j + 2], kernel_y))\n",
    "\n",
    "    convolved = nu.sqrt(nu.square(G_x) + nu.square(G_y))\n",
    "    convolved = nu.multiply(convolved, 255.0 / convolved.max())\n",
    "\n",
    "    angles = nu.rad2deg(nu.arctan2(G_y, G_x))\n",
    "    angles[angles < 0] += 180\n",
    "    convolved = convolved.astype('uint8')\n",
    "    return convolved, angles"
   ]
  },
  {
   "cell_type": "code",
   "execution_count": 13,
   "id": "b778f0ae",
   "metadata": {},
   "outputs": [],
   "source": [
    "def non_maximum_suppression(image, angles):\n",
    "    size = image.shape\n",
    "    suppressed = nu.zeros(size)\n",
    "    for i in range(1, size[0] - 1):\n",
    "        for j in range(1, size[1] - 1):\n",
    "            if (0 <= angles[i, j] < 22.5) or (157.5 <= angles[i, j] <= 180):\n",
    "                value_to_compare = max(image[i, j - 1], image[i, j + 1])\n",
    "            elif (22.5 <= angles[i, j] < 67.5):\n",
    "                value_to_compare = max(image[i - 1, j - 1], image[i + 1, j + 1])\n",
    "            elif (67.5 <= angles[i, j] < 112.5):\n",
    "                value_to_compare = max(image[i - 1, j], image[i + 1, j])\n",
    "            else:\n",
    "                value_to_compare = max(image[i + 1, j - 1], image[i - 1, j + 1])\n",
    "\n",
    "            if image[i, j] >= value_to_compare:\n",
    "                suppressed[i, j] = image[i, j]\n",
    "    suppressed = nu.multiply(suppressed, 255.0 / suppressed.max())\n",
    "    return suppressed"
   ]
  },
  {
   "cell_type": "code",
   "execution_count": 14,
   "id": "81880a27",
   "metadata": {},
   "outputs": [],
   "source": [
    "def double_threshold_hysteresis(image, low, high):\n",
    "    weak = 50\n",
    "    strong = 255\n",
    "    size = image.shape\n",
    "    result = nu.zeros(size)\n",
    "    weak_x, weak_y = nu.where((image > low) & (image <= high))\n",
    "    strong_x, strong_y = nu.where(image >= high)\n",
    "    result[strong_x, strong_y] = strong\n",
    "    result[weak_x, weak_y] = weak\n",
    "    dx = nu.array((-1, -1, 0, 1, 1, 1, 0, -1))\n",
    "    dy = nu.array((0, 1, 1, 1, 0, -1, -1, -1))\n",
    "    size = image.shape\n",
    "\n",
    "    while len(strong_x):\n",
    "        x = strong_x[0]\n",
    "        y = strong_y[0]\n",
    "        strong_x = nu.delete(strong_x, 0)\n",
    "        strong_y = nu.delete(strong_y, 0)\n",
    "        for direction in range(len(dx)):\n",
    "            new_x = x + dx[direction]\n",
    "            new_y = y + dy[direction]\n",
    "            if ((new_x >= 0 & new_x < size[0] & new_y >= 0 & new_y < size[1]) and (result[new_x, new_y] == weak)):\n",
    "                result[new_x, new_y] = strong\n",
    "                nu.append(strong_x, new_x)\n",
    "                nu.append(strong_y, new_y)\n",
    "    result[result != strong] = 0\n",
    "    return result"
   ]
  },
  {
   "cell_type": "code",
   "execution_count": 15,
   "id": "5172ad7b",
   "metadata": {},
   "outputs": [],
   "source": [
    "def Canny(image, low, high):\n",
    "    image, angles = SobelFilter(image)\n",
    "    image = non_maximum_suppression(image, angles)\n",
    "    gradient = nu.copy(image)\n",
    "    image = double_threshold_hysteresis(image, low, high)\n",
    "    return image, gradient"
   ]
  },
  {
   "cell_type": "code",
   "execution_count": 16,
   "id": "041182df",
   "metadata": {},
   "outputs": [],
   "source": [
    "def mark(x, y, radius):\n",
    "    for i in range(360):\n",
    "        edgeX = int(math.cos(i) * radius + x)\n",
    "        edgeY = int(math.sin(i) * radius + y)\n",
    "        if edgeX >= cols:\n",
    "            edgeX = edgeX - (edgeX - cols) - 1\n",
    "        if edgeY >= rows:\n",
    "            edgeY = edgeY - (edgeY - rows) - 1\n",
    "\n",
    "        accumulator[edgeY, edgeX] += 1"
   ]
  },
  {
   "cell_type": "code",
   "execution_count": 17,
   "id": "0146686c",
   "metadata": {},
   "outputs": [],
   "source": [
    "original = cv2.imread('C:\\\\Users\\\\shahi\\\\Downloads\\\\blood.png')\n",
    "\n",
    "rows, cols, _ = original.shape\n"
   ]
  },
  {
   "cell_type": "code",
   "execution_count": null,
   "id": "6613be13",
   "metadata": {},
   "outputs": [],
   "source": [
    "after_nms, gradient = Canny(original, 75, 75)\n",
    "MIN_R = 10\n",
    "MAX_R = 16\n",
    "for i in range(MIN_R, MAX_R):\n",
    "    accumulator = nu.zeros((rows, cols, 1), dtype=nu.uint8)\n",
    "    for r in range(rows):\n",
    "        for c in range(cols):\n",
    "            if after_nms[r, c] > 200:\n",
    "                mark(c, r, i)\n",
    "    for r in range(rows):\n",
    "        for c in range(rows):\n",
    "            if accumulator[r, c] >= 150:\n",
    "                cv2.circle(original, (c, r), i, (0, 0, 0), 2)\n",
    "\n",
    "#cv2.imshow('Original', original)\n",
    "#cv2.imshow('Edged', after_nms)\n",
    "cv2.imwrite(\"C:\\\\Users\\\\shahi\\\\Desktop\\\\Output\\\\blood_edges.png\",after_nms)\n",
    "\n",
    "#cv2.imshow('Accumul', accumulator)\n",
    "cv2.imwrite(\"C:\\\\Users\\\\shahi\\\\Desktop\\\\Output\\\\blood_accumulator.png\",accumulator)\n",
    "\n",
    "cv2.waitKey(0)"
   ]
  }
 ],
 "metadata": {
  "kernelspec": {
   "display_name": "Python 3",
   "language": "python",
   "name": "python3"
  },
  "language_info": {
   "codemirror_mode": {
    "name": "ipython",
    "version": 3
   },
   "file_extension": ".py",
   "mimetype": "text/x-python",
   "name": "python",
   "nbconvert_exporter": "python",
   "pygments_lexer": "ipython3",
   "version": "3.8.8"
  }
 },
 "nbformat": 4,
 "nbformat_minor": 5
}
