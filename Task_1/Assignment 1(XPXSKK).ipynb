{
 "cells": [
  {
   "cell_type": "markdown",
   "id": "b75e81c9",
   "metadata": {},
   "source": [
    "# Shahid Gulzar Padder\n",
    "XPXSKK\n",
    "\n"
   ]
  },
  {
   "cell_type": "markdown",
   "id": "91f60354",
   "metadata": {},
   "source": [
    "# First Assignment: 1. Prewitt edge detector: gradient filter és nonmaxima-suppression (NMS)"
   ]
  },
  {
   "cell_type": "code",
   "execution_count": 1,
   "id": "af02e9be",
   "metadata": {},
   "outputs": [],
   "source": [
    "import cv2 as cv\n",
    "import numpy as np\n",
    "import math"
   ]
  },
  {
   "cell_type": "code",
   "execution_count": 2,
   "id": "a407992c",
   "metadata": {},
   "outputs": [],
   "source": [
    "i1, j1, i2, j2 = 0, 0, 0, 0\n",
    "#NMS\n",
    "\n",
    "\n",
    "def NMS(grd_mg, edge_o):\n",
    "\n",
    "    rows, cols = grd_mg.shape\n",
    "    supr_mat = np.copy(grd_mg)#Supression matrix\n",
    "\n",
    "    for i in range(1, rows - 1):\n",
    "        for j in range(1, cols - 1):\n",
    "\n",
    "            angle = float(edge_o[i, j])\n",
    "            if (0 <= angle < 22.5) or (157.5 <= angle <= 180):\n",
    "                i1, j1, i2, j2 = 1, 1, -1, -1\n",
    "                \n",
    "            elif 67.5 <= angle < 112.5:\n",
    "                i1, j1, i2, j2 = 1, -1, -1, 1\n",
    "\n",
    "            elif 22.5 <= angle < 67.5:\n",
    "                i1, j1, i2, j2 = 1, 0, -1, 0\n",
    "\n",
    "            else:\n",
    "                i1, j1, i2, j2 = 0, -1, 0, -1\n",
    "\n",
    "            C = grd_mg[i, j]\n",
    "            A = grd_mg[i + i1, j + j1]\n",
    "            B = grd_mg[i + i2, j + j2]\n",
    "            \n",
    "#Here, if M(A) > M(C) or M(B) > M(C), then we should discard pixel (x, y) by making M(x, y) = 0\n",
    "            if A > C or B > C:\n",
    "                supr_mat[i, j] = 0\n",
    "\n",
    "    return np.array(supr_mat).astype('uint8')"
   ]
  },
  {
   "cell_type": "code",
   "execution_count": 3,
   "id": "567fe530",
   "metadata": {},
   "outputs": [],
   "source": [
    "#Prewitt Gx \n",
    "GX = np.array([[1, 0,-1],\n",
    "              [1, 0,-1],\n",
    "              [1, 0,-1]])\n",
    "    \n",
    "#Prewitt Gy \n",
    "\n",
    "GY = np.array([[ 1, 1, 1],\n",
    "              [ 0, 0, 0],\n",
    "              [-1,-1,-1]])\n",
    "\n",
    "image = cv.imread('./motor.png')\n",
    "\n",
    "gryscl_image = cv.cvtColor(image, cv.COLOR_BGR2GRAY)\n",
    "rows, cols, channels = image.shape\n",
    "\n",
    "grd_mg = np.zeros((rows, cols))\n",
    "edge_o = np.zeros((rows, cols))\n"
   ]
  },
  {
   "cell_type": "code",
   "execution_count": 4,
   "id": "211a530d",
   "metadata": {},
   "outputs": [
    {
     "data": {
      "text/plain": [
       "-1"
      ]
     },
     "execution_count": 4,
     "metadata": {},
     "output_type": "execute_result"
    }
   ],
   "source": [
    "for x in range(1, rows - 1):\n",
    "    for y in range(1, cols - 1):\n",
    "        gx = np.sum(np.multiply(GX, gryscl_image[x-1:x+2, y-1:y+2])) / 3\n",
    "        gy = np.sum(np.multiply(GY, gryscl_image[x-1:x+2, y-1:y+2])) / 3\n",
    "\n",
    "        grd_mg[x, y] = math.sqrt(gx*gx + gy*gy)\n",
    "        edge_o[x, y] = np.rad2deg(math.atan2(gx, gy))\n",
    "\n",
    "grd_mg = np.array(grd_mg).astype('uint8')\n",
    "\n",
    "#calling NMS\n",
    "nms = NMS(grd_mg, edge_o)\n",
    "\n",
    "#Printing the images\n",
    "cv.imshow('Motor_org_graysc_img', gryscl_image)\n",
    "cv.imshow('Motor_gradient_magnitude.', grd_mg)\n",
    "cv.imshow('Motor_NMS', nms)\n",
    "\n",
    "#Saving the image\n",
    "\n",
    "cv.imwrite('./Motor_grad_mag.jpg',grd_mg)\n",
    "cv.imwrite('./Motor_NMS.jpg',nms)\n",
    "\n",
    "#I have included all the outputs in one folder\n",
    "cv.waitKey(0)"
   ]
  },
  {
   "cell_type": "code",
   "execution_count": null,
   "id": "afa3695f",
   "metadata": {},
   "outputs": [],
   "source": []
  }
 ],
 "metadata": {
  "kernelspec": {
   "display_name": "Python 3",
   "language": "python",
   "name": "python3"
  },
  "language_info": {
   "codemirror_mode": {
    "name": "ipython",
    "version": 3
   },
   "file_extension": ".py",
   "mimetype": "text/x-python",
   "name": "python",
   "nbconvert_exporter": "python",
   "pygments_lexer": "ipython3",
   "version": "3.8.8"
  }
 },
 "nbformat": 4,
 "nbformat_minor": 5
}
